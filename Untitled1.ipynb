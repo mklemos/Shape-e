{
  "nbformat": 4,
  "nbformat_minor": 0,
  "metadata": {
    "colab": {
      "provenance": [],
      "gpuType": "T4",
      "authorship_tag": "ABX9TyOsl/2qjqYB7eJHVOfw5qBw",
      "include_colab_link": true
    },
    "kernelspec": {
      "name": "python3",
      "display_name": "Python 3"
    },
    "language_info": {
      "name": "python"
    },
    "accelerator": "GPU",
    "widgets": {
      "application/vnd.jupyter.widget-state+json": {
        "fde2f58dd1894e8abe4d7f6fc73b2674": {
          "model_module": "@jupyter-widgets/controls",
          "model_name": "HBoxModel",
          "model_module_version": "1.5.0",
          "state": {
            "_dom_classes": [],
            "_model_module": "@jupyter-widgets/controls",
            "_model_module_version": "1.5.0",
            "_model_name": "HBoxModel",
            "_view_count": null,
            "_view_module": "@jupyter-widgets/controls",
            "_view_module_version": "1.5.0",
            "_view_name": "HBoxView",
            "box_style": "",
            "children": [
              "IPY_MODEL_70aea736f2714092a3880f8e68d0c5f7",
              "IPY_MODEL_d5366140dd1541709146e9c72f1c7085",
              "IPY_MODEL_7bfb8b723d4f47ecbd605872ed60a158"
            ],
            "layout": "IPY_MODEL_cb18e49010404b06b9b5dc54f38060a4"
          }
        },
        "70aea736f2714092a3880f8e68d0c5f7": {
          "model_module": "@jupyter-widgets/controls",
          "model_name": "HTMLModel",
          "model_module_version": "1.5.0",
          "state": {
            "_dom_classes": [],
            "_model_module": "@jupyter-widgets/controls",
            "_model_module_version": "1.5.0",
            "_model_name": "HTMLModel",
            "_view_count": null,
            "_view_module": "@jupyter-widgets/controls",
            "_view_module_version": "1.5.0",
            "_view_name": "HTMLView",
            "description": "",
            "description_tooltip": null,
            "layout": "IPY_MODEL_b4efb4bc2f3e48ca9d0348b91657b7a6",
            "placeholder": "​",
            "style": "IPY_MODEL_ed91648ee6db4196863f912af3bad7a2",
            "value": "100%"
          }
        },
        "d5366140dd1541709146e9c72f1c7085": {
          "model_module": "@jupyter-widgets/controls",
          "model_name": "FloatProgressModel",
          "model_module_version": "1.5.0",
          "state": {
            "_dom_classes": [],
            "_model_module": "@jupyter-widgets/controls",
            "_model_module_version": "1.5.0",
            "_model_name": "FloatProgressModel",
            "_view_count": null,
            "_view_module": "@jupyter-widgets/controls",
            "_view_module_version": "1.5.0",
            "_view_name": "ProgressView",
            "bar_style": "success",
            "description": "",
            "description_tooltip": null,
            "layout": "IPY_MODEL_837b8562816a44fa876d4b56272ee2b2",
            "max": 1776048343,
            "min": 0,
            "orientation": "horizontal",
            "style": "IPY_MODEL_234e7789b6f04fe6bbff25790b49933a",
            "value": 1776048343
          }
        },
        "7bfb8b723d4f47ecbd605872ed60a158": {
          "model_module": "@jupyter-widgets/controls",
          "model_name": "HTMLModel",
          "model_module_version": "1.5.0",
          "state": {
            "_dom_classes": [],
            "_model_module": "@jupyter-widgets/controls",
            "_model_module_version": "1.5.0",
            "_model_name": "HTMLModel",
            "_view_count": null,
            "_view_module": "@jupyter-widgets/controls",
            "_view_module_version": "1.5.0",
            "_view_name": "HTMLView",
            "description": "",
            "description_tooltip": null,
            "layout": "IPY_MODEL_f8b1f6660b03466c8ec6efa06959295b",
            "placeholder": "​",
            "style": "IPY_MODEL_2d715e93dc874801978e74f655b31ab0",
            "value": " 1.78G/1.78G [02:04&lt;00:00, 16.9MiB/s]"
          }
        },
        "cb18e49010404b06b9b5dc54f38060a4": {
          "model_module": "@jupyter-widgets/base",
          "model_name": "LayoutModel",
          "model_module_version": "1.2.0",
          "state": {
            "_model_module": "@jupyter-widgets/base",
            "_model_module_version": "1.2.0",
            "_model_name": "LayoutModel",
            "_view_count": null,
            "_view_module": "@jupyter-widgets/base",
            "_view_module_version": "1.2.0",
            "_view_name": "LayoutView",
            "align_content": null,
            "align_items": null,
            "align_self": null,
            "border": null,
            "bottom": null,
            "display": null,
            "flex": null,
            "flex_flow": null,
            "grid_area": null,
            "grid_auto_columns": null,
            "grid_auto_flow": null,
            "grid_auto_rows": null,
            "grid_column": null,
            "grid_gap": null,
            "grid_row": null,
            "grid_template_areas": null,
            "grid_template_columns": null,
            "grid_template_rows": null,
            "height": null,
            "justify_content": null,
            "justify_items": null,
            "left": null,
            "margin": null,
            "max_height": null,
            "max_width": null,
            "min_height": null,
            "min_width": null,
            "object_fit": null,
            "object_position": null,
            "order": null,
            "overflow": null,
            "overflow_x": null,
            "overflow_y": null,
            "padding": null,
            "right": null,
            "top": null,
            "visibility": null,
            "width": null
          }
        },
        "b4efb4bc2f3e48ca9d0348b91657b7a6": {
          "model_module": "@jupyter-widgets/base",
          "model_name": "LayoutModel",
          "model_module_version": "1.2.0",
          "state": {
            "_model_module": "@jupyter-widgets/base",
            "_model_module_version": "1.2.0",
            "_model_name": "LayoutModel",
            "_view_count": null,
            "_view_module": "@jupyter-widgets/base",
            "_view_module_version": "1.2.0",
            "_view_name": "LayoutView",
            "align_content": null,
            "align_items": null,
            "align_self": null,
            "border": null,
            "bottom": null,
            "display": null,
            "flex": null,
            "flex_flow": null,
            "grid_area": null,
            "grid_auto_columns": null,
            "grid_auto_flow": null,
            "grid_auto_rows": null,
            "grid_column": null,
            "grid_gap": null,
            "grid_row": null,
            "grid_template_areas": null,
            "grid_template_columns": null,
            "grid_template_rows": null,
            "height": null,
            "justify_content": null,
            "justify_items": null,
            "left": null,
            "margin": null,
            "max_height": null,
            "max_width": null,
            "min_height": null,
            "min_width": null,
            "object_fit": null,
            "object_position": null,
            "order": null,
            "overflow": null,
            "overflow_x": null,
            "overflow_y": null,
            "padding": null,
            "right": null,
            "top": null,
            "visibility": null,
            "width": null
          }
        },
        "ed91648ee6db4196863f912af3bad7a2": {
          "model_module": "@jupyter-widgets/controls",
          "model_name": "DescriptionStyleModel",
          "model_module_version": "1.5.0",
          "state": {
            "_model_module": "@jupyter-widgets/controls",
            "_model_module_version": "1.5.0",
            "_model_name": "DescriptionStyleModel",
            "_view_count": null,
            "_view_module": "@jupyter-widgets/base",
            "_view_module_version": "1.2.0",
            "_view_name": "StyleView",
            "description_width": ""
          }
        },
        "837b8562816a44fa876d4b56272ee2b2": {
          "model_module": "@jupyter-widgets/base",
          "model_name": "LayoutModel",
          "model_module_version": "1.2.0",
          "state": {
            "_model_module": "@jupyter-widgets/base",
            "_model_module_version": "1.2.0",
            "_model_name": "LayoutModel",
            "_view_count": null,
            "_view_module": "@jupyter-widgets/base",
            "_view_module_version": "1.2.0",
            "_view_name": "LayoutView",
            "align_content": null,
            "align_items": null,
            "align_self": null,
            "border": null,
            "bottom": null,
            "display": null,
            "flex": null,
            "flex_flow": null,
            "grid_area": null,
            "grid_auto_columns": null,
            "grid_auto_flow": null,
            "grid_auto_rows": null,
            "grid_column": null,
            "grid_gap": null,
            "grid_row": null,
            "grid_template_areas": null,
            "grid_template_columns": null,
            "grid_template_rows": null,
            "height": null,
            "justify_content": null,
            "justify_items": null,
            "left": null,
            "margin": null,
            "max_height": null,
            "max_width": null,
            "min_height": null,
            "min_width": null,
            "object_fit": null,
            "object_position": null,
            "order": null,
            "overflow": null,
            "overflow_x": null,
            "overflow_y": null,
            "padding": null,
            "right": null,
            "top": null,
            "visibility": null,
            "width": null
          }
        },
        "234e7789b6f04fe6bbff25790b49933a": {
          "model_module": "@jupyter-widgets/controls",
          "model_name": "ProgressStyleModel",
          "model_module_version": "1.5.0",
          "state": {
            "_model_module": "@jupyter-widgets/controls",
            "_model_module_version": "1.5.0",
            "_model_name": "ProgressStyleModel",
            "_view_count": null,
            "_view_module": "@jupyter-widgets/base",
            "_view_module_version": "1.2.0",
            "_view_name": "StyleView",
            "bar_color": null,
            "description_width": ""
          }
        },
        "f8b1f6660b03466c8ec6efa06959295b": {
          "model_module": "@jupyter-widgets/base",
          "model_name": "LayoutModel",
          "model_module_version": "1.2.0",
          "state": {
            "_model_module": "@jupyter-widgets/base",
            "_model_module_version": "1.2.0",
            "_model_name": "LayoutModel",
            "_view_count": null,
            "_view_module": "@jupyter-widgets/base",
            "_view_module_version": "1.2.0",
            "_view_name": "LayoutView",
            "align_content": null,
            "align_items": null,
            "align_self": null,
            "border": null,
            "bottom": null,
            "display": null,
            "flex": null,
            "flex_flow": null,
            "grid_area": null,
            "grid_auto_columns": null,
            "grid_auto_flow": null,
            "grid_auto_rows": null,
            "grid_column": null,
            "grid_gap": null,
            "grid_row": null,
            "grid_template_areas": null,
            "grid_template_columns": null,
            "grid_template_rows": null,
            "height": null,
            "justify_content": null,
            "justify_items": null,
            "left": null,
            "margin": null,
            "max_height": null,
            "max_width": null,
            "min_height": null,
            "min_width": null,
            "object_fit": null,
            "object_position": null,
            "order": null,
            "overflow": null,
            "overflow_x": null,
            "overflow_y": null,
            "padding": null,
            "right": null,
            "top": null,
            "visibility": null,
            "width": null
          }
        },
        "2d715e93dc874801978e74f655b31ab0": {
          "model_module": "@jupyter-widgets/controls",
          "model_name": "DescriptionStyleModel",
          "model_module_version": "1.5.0",
          "state": {
            "_model_module": "@jupyter-widgets/controls",
            "_model_module_version": "1.5.0",
            "_model_name": "DescriptionStyleModel",
            "_view_count": null,
            "_view_module": "@jupyter-widgets/base",
            "_view_module_version": "1.2.0",
            "_view_name": "StyleView",
            "description_width": ""
          }
        },
        "e42d39dac25748dfb5aa52bbcea3b1a7": {
          "model_module": "@jupyter-widgets/controls",
          "model_name": "HBoxModel",
          "model_module_version": "1.5.0",
          "state": {
            "_dom_classes": [],
            "_model_module": "@jupyter-widgets/controls",
            "_model_module_version": "1.5.0",
            "_model_name": "HBoxModel",
            "_view_count": null,
            "_view_module": "@jupyter-widgets/controls",
            "_view_module_version": "1.5.0",
            "_view_name": "HBoxView",
            "box_style": "",
            "children": [
              "IPY_MODEL_09d26b8244e5402dbc14bb7d5a81f0ff",
              "IPY_MODEL_61d090b2cc774b1c94df60f54f723e6c",
              "IPY_MODEL_2c70b41dfdcf4a2891717a57d1180f7e"
            ],
            "layout": "IPY_MODEL_d88764bffbcd4f16be516229494f7d25"
          }
        },
        "09d26b8244e5402dbc14bb7d5a81f0ff": {
          "model_module": "@jupyter-widgets/controls",
          "model_name": "HTMLModel",
          "model_module_version": "1.5.0",
          "state": {
            "_dom_classes": [],
            "_model_module": "@jupyter-widgets/controls",
            "_model_module_version": "1.5.0",
            "_model_name": "HTMLModel",
            "_view_count": null,
            "_view_module": "@jupyter-widgets/controls",
            "_view_module_version": "1.5.0",
            "_view_name": "HTMLView",
            "description": "",
            "description_tooltip": null,
            "layout": "IPY_MODEL_d9e44ca0a5914a0cac5e278314136450",
            "placeholder": "​",
            "style": "IPY_MODEL_ebf44f56a100492ab22c0c5ac5f04318",
            "value": "100%"
          }
        },
        "61d090b2cc774b1c94df60f54f723e6c": {
          "model_module": "@jupyter-widgets/controls",
          "model_name": "FloatProgressModel",
          "model_module_version": "1.5.0",
          "state": {
            "_dom_classes": [],
            "_model_module": "@jupyter-widgets/controls",
            "_model_module_version": "1.5.0",
            "_model_name": "FloatProgressModel",
            "_view_count": null,
            "_view_module": "@jupyter-widgets/controls",
            "_view_module_version": "1.5.0",
            "_view_name": "ProgressView",
            "bar_style": "success",
            "description": "",
            "description_tooltip": null,
            "layout": "IPY_MODEL_a27ca9ec17654ec68dcb7d8466833cda",
            "max": 1262868003,
            "min": 0,
            "orientation": "horizontal",
            "style": "IPY_MODEL_53af894e9bce4ad396a4d4048e870141",
            "value": 1262868003
          }
        },
        "2c70b41dfdcf4a2891717a57d1180f7e": {
          "model_module": "@jupyter-widgets/controls",
          "model_name": "HTMLModel",
          "model_module_version": "1.5.0",
          "state": {
            "_dom_classes": [],
            "_model_module": "@jupyter-widgets/controls",
            "_model_module_version": "1.5.0",
            "_model_name": "HTMLModel",
            "_view_count": null,
            "_view_module": "@jupyter-widgets/controls",
            "_view_module_version": "1.5.0",
            "_view_name": "HTMLView",
            "description": "",
            "description_tooltip": null,
            "layout": "IPY_MODEL_aedd3614cd474876af0403953e37ea49",
            "placeholder": "​",
            "style": "IPY_MODEL_bb19caebf11742a59e4e818ec6dcf0c3",
            "value": " 1.26G/1.26G [01:26&lt;00:00, 15.3MiB/s]"
          }
        },
        "d88764bffbcd4f16be516229494f7d25": {
          "model_module": "@jupyter-widgets/base",
          "model_name": "LayoutModel",
          "model_module_version": "1.2.0",
          "state": {
            "_model_module": "@jupyter-widgets/base",
            "_model_module_version": "1.2.0",
            "_model_name": "LayoutModel",
            "_view_count": null,
            "_view_module": "@jupyter-widgets/base",
            "_view_module_version": "1.2.0",
            "_view_name": "LayoutView",
            "align_content": null,
            "align_items": null,
            "align_self": null,
            "border": null,
            "bottom": null,
            "display": null,
            "flex": null,
            "flex_flow": null,
            "grid_area": null,
            "grid_auto_columns": null,
            "grid_auto_flow": null,
            "grid_auto_rows": null,
            "grid_column": null,
            "grid_gap": null,
            "grid_row": null,
            "grid_template_areas": null,
            "grid_template_columns": null,
            "grid_template_rows": null,
            "height": null,
            "justify_content": null,
            "justify_items": null,
            "left": null,
            "margin": null,
            "max_height": null,
            "max_width": null,
            "min_height": null,
            "min_width": null,
            "object_fit": null,
            "object_position": null,
            "order": null,
            "overflow": null,
            "overflow_x": null,
            "overflow_y": null,
            "padding": null,
            "right": null,
            "top": null,
            "visibility": null,
            "width": null
          }
        },
        "d9e44ca0a5914a0cac5e278314136450": {
          "model_module": "@jupyter-widgets/base",
          "model_name": "LayoutModel",
          "model_module_version": "1.2.0",
          "state": {
            "_model_module": "@jupyter-widgets/base",
            "_model_module_version": "1.2.0",
            "_model_name": "LayoutModel",
            "_view_count": null,
            "_view_module": "@jupyter-widgets/base",
            "_view_module_version": "1.2.0",
            "_view_name": "LayoutView",
            "align_content": null,
            "align_items": null,
            "align_self": null,
            "border": null,
            "bottom": null,
            "display": null,
            "flex": null,
            "flex_flow": null,
            "grid_area": null,
            "grid_auto_columns": null,
            "grid_auto_flow": null,
            "grid_auto_rows": null,
            "grid_column": null,
            "grid_gap": null,
            "grid_row": null,
            "grid_template_areas": null,
            "grid_template_columns": null,
            "grid_template_rows": null,
            "height": null,
            "justify_content": null,
            "justify_items": null,
            "left": null,
            "margin": null,
            "max_height": null,
            "max_width": null,
            "min_height": null,
            "min_width": null,
            "object_fit": null,
            "object_position": null,
            "order": null,
            "overflow": null,
            "overflow_x": null,
            "overflow_y": null,
            "padding": null,
            "right": null,
            "top": null,
            "visibility": null,
            "width": null
          }
        },
        "ebf44f56a100492ab22c0c5ac5f04318": {
          "model_module": "@jupyter-widgets/controls",
          "model_name": "DescriptionStyleModel",
          "model_module_version": "1.5.0",
          "state": {
            "_model_module": "@jupyter-widgets/controls",
            "_model_module_version": "1.5.0",
            "_model_name": "DescriptionStyleModel",
            "_view_count": null,
            "_view_module": "@jupyter-widgets/base",
            "_view_module_version": "1.2.0",
            "_view_name": "StyleView",
            "description_width": ""
          }
        },
        "a27ca9ec17654ec68dcb7d8466833cda": {
          "model_module": "@jupyter-widgets/base",
          "model_name": "LayoutModel",
          "model_module_version": "1.2.0",
          "state": {
            "_model_module": "@jupyter-widgets/base",
            "_model_module_version": "1.2.0",
            "_model_name": "LayoutModel",
            "_view_count": null,
            "_view_module": "@jupyter-widgets/base",
            "_view_module_version": "1.2.0",
            "_view_name": "LayoutView",
            "align_content": null,
            "align_items": null,
            "align_self": null,
            "border": null,
            "bottom": null,
            "display": null,
            "flex": null,
            "flex_flow": null,
            "grid_area": null,
            "grid_auto_columns": null,
            "grid_auto_flow": null,
            "grid_auto_rows": null,
            "grid_column": null,
            "grid_gap": null,
            "grid_row": null,
            "grid_template_areas": null,
            "grid_template_columns": null,
            "grid_template_rows": null,
            "height": null,
            "justify_content": null,
            "justify_items": null,
            "left": null,
            "margin": null,
            "max_height": null,
            "max_width": null,
            "min_height": null,
            "min_width": null,
            "object_fit": null,
            "object_position": null,
            "order": null,
            "overflow": null,
            "overflow_x": null,
            "overflow_y": null,
            "padding": null,
            "right": null,
            "top": null,
            "visibility": null,
            "width": null
          }
        },
        "53af894e9bce4ad396a4d4048e870141": {
          "model_module": "@jupyter-widgets/controls",
          "model_name": "ProgressStyleModel",
          "model_module_version": "1.5.0",
          "state": {
            "_model_module": "@jupyter-widgets/controls",
            "_model_module_version": "1.5.0",
            "_model_name": "ProgressStyleModel",
            "_view_count": null,
            "_view_module": "@jupyter-widgets/base",
            "_view_module_version": "1.2.0",
            "_view_name": "StyleView",
            "bar_color": null,
            "description_width": ""
          }
        },
        "aedd3614cd474876af0403953e37ea49": {
          "model_module": "@jupyter-widgets/base",
          "model_name": "LayoutModel",
          "model_module_version": "1.2.0",
          "state": {
            "_model_module": "@jupyter-widgets/base",
            "_model_module_version": "1.2.0",
            "_model_name": "LayoutModel",
            "_view_count": null,
            "_view_module": "@jupyter-widgets/base",
            "_view_module_version": "1.2.0",
            "_view_name": "LayoutView",
            "align_content": null,
            "align_items": null,
            "align_self": null,
            "border": null,
            "bottom": null,
            "display": null,
            "flex": null,
            "flex_flow": null,
            "grid_area": null,
            "grid_auto_columns": null,
            "grid_auto_flow": null,
            "grid_auto_rows": null,
            "grid_column": null,
            "grid_gap": null,
            "grid_row": null,
            "grid_template_areas": null,
            "grid_template_columns": null,
            "grid_template_rows": null,
            "height": null,
            "justify_content": null,
            "justify_items": null,
            "left": null,
            "margin": null,
            "max_height": null,
            "max_width": null,
            "min_height": null,
            "min_width": null,
            "object_fit": null,
            "object_position": null,
            "order": null,
            "overflow": null,
            "overflow_x": null,
            "overflow_y": null,
            "padding": null,
            "right": null,
            "top": null,
            "visibility": null,
            "width": null
          }
        },
        "bb19caebf11742a59e4e818ec6dcf0c3": {
          "model_module": "@jupyter-widgets/controls",
          "model_name": "DescriptionStyleModel",
          "model_module_version": "1.5.0",
          "state": {
            "_model_module": "@jupyter-widgets/controls",
            "_model_module_version": "1.5.0",
            "_model_name": "DescriptionStyleModel",
            "_view_count": null,
            "_view_module": "@jupyter-widgets/base",
            "_view_module_version": "1.2.0",
            "_view_name": "StyleView",
            "description_width": ""
          }
        },
        "d68c67e5538843da8d73f9749e6dd3b8": {
          "model_module": "@jupyter-widgets/controls",
          "model_name": "HBoxModel",
          "model_module_version": "1.5.0",
          "state": {
            "_dom_classes": [],
            "_model_module": "@jupyter-widgets/controls",
            "_model_module_version": "1.5.0",
            "_model_name": "HBoxModel",
            "_view_count": null,
            "_view_module": "@jupyter-widgets/controls",
            "_view_module_version": "1.5.0",
            "_view_name": "HBoxView",
            "box_style": "",
            "children": [
              "IPY_MODEL_907546ad824647d2a088e3c4a21fde2f",
              "IPY_MODEL_6a47aa445c7847959857bf7d83eb9299",
              "IPY_MODEL_fec1eb9bf1904152a8d0e7e3f992aeb7"
            ],
            "layout": "IPY_MODEL_0cbf53db720d4645b6427899164d1069"
          }
        },
        "907546ad824647d2a088e3c4a21fde2f": {
          "model_module": "@jupyter-widgets/controls",
          "model_name": "HTMLModel",
          "model_module_version": "1.5.0",
          "state": {
            "_dom_classes": [],
            "_model_module": "@jupyter-widgets/controls",
            "_model_module_version": "1.5.0",
            "_model_name": "HTMLModel",
            "_view_count": null,
            "_view_module": "@jupyter-widgets/controls",
            "_view_module_version": "1.5.0",
            "_view_name": "HTMLView",
            "description": "",
            "description_tooltip": null,
            "layout": "IPY_MODEL_07ea76dda74e462ea1bf8c8c3c669c27",
            "placeholder": "​",
            "style": "IPY_MODEL_1fca808b2e8f4154aa95657b07293e6f",
            "value": "100%"
          }
        },
        "6a47aa445c7847959857bf7d83eb9299": {
          "model_module": "@jupyter-widgets/controls",
          "model_name": "FloatProgressModel",
          "model_module_version": "1.5.0",
          "state": {
            "_dom_classes": [],
            "_model_module": "@jupyter-widgets/controls",
            "_model_module_version": "1.5.0",
            "_model_name": "FloatProgressModel",
            "_view_count": null,
            "_view_module": "@jupyter-widgets/controls",
            "_view_module_version": "1.5.0",
            "_view_name": "ProgressView",
            "bar_style": "success",
            "description": "",
            "description_tooltip": null,
            "layout": "IPY_MODEL_cea053f1c0eb4a8fbe18ad2833a8b687",
            "max": 64,
            "min": 0,
            "orientation": "horizontal",
            "style": "IPY_MODEL_150fa8b7660c450db1b800f428101eb9",
            "value": 64
          }
        },
        "fec1eb9bf1904152a8d0e7e3f992aeb7": {
          "model_module": "@jupyter-widgets/controls",
          "model_name": "HTMLModel",
          "model_module_version": "1.5.0",
          "state": {
            "_dom_classes": [],
            "_model_module": "@jupyter-widgets/controls",
            "_model_module_version": "1.5.0",
            "_model_name": "HTMLModel",
            "_view_count": null,
            "_view_module": "@jupyter-widgets/controls",
            "_view_module_version": "1.5.0",
            "_view_name": "HTMLView",
            "description": "",
            "description_tooltip": null,
            "layout": "IPY_MODEL_124684a4b40c44118e7354a014a855cb",
            "placeholder": "​",
            "style": "IPY_MODEL_dfd4079e588549c29dc998ef07ab7d92",
            "value": " 64/64 [01:31&lt;00:00,  1.30s/it]"
          }
        },
        "0cbf53db720d4645b6427899164d1069": {
          "model_module": "@jupyter-widgets/base",
          "model_name": "LayoutModel",
          "model_module_version": "1.2.0",
          "state": {
            "_model_module": "@jupyter-widgets/base",
            "_model_module_version": "1.2.0",
            "_model_name": "LayoutModel",
            "_view_count": null,
            "_view_module": "@jupyter-widgets/base",
            "_view_module_version": "1.2.0",
            "_view_name": "LayoutView",
            "align_content": null,
            "align_items": null,
            "align_self": null,
            "border": null,
            "bottom": null,
            "display": null,
            "flex": null,
            "flex_flow": null,
            "grid_area": null,
            "grid_auto_columns": null,
            "grid_auto_flow": null,
            "grid_auto_rows": null,
            "grid_column": null,
            "grid_gap": null,
            "grid_row": null,
            "grid_template_areas": null,
            "grid_template_columns": null,
            "grid_template_rows": null,
            "height": null,
            "justify_content": null,
            "justify_items": null,
            "left": null,
            "margin": null,
            "max_height": null,
            "max_width": null,
            "min_height": null,
            "min_width": null,
            "object_fit": null,
            "object_position": null,
            "order": null,
            "overflow": null,
            "overflow_x": null,
            "overflow_y": null,
            "padding": null,
            "right": null,
            "top": null,
            "visibility": null,
            "width": null
          }
        },
        "07ea76dda74e462ea1bf8c8c3c669c27": {
          "model_module": "@jupyter-widgets/base",
          "model_name": "LayoutModel",
          "model_module_version": "1.2.0",
          "state": {
            "_model_module": "@jupyter-widgets/base",
            "_model_module_version": "1.2.0",
            "_model_name": "LayoutModel",
            "_view_count": null,
            "_view_module": "@jupyter-widgets/base",
            "_view_module_version": "1.2.0",
            "_view_name": "LayoutView",
            "align_content": null,
            "align_items": null,
            "align_self": null,
            "border": null,
            "bottom": null,
            "display": null,
            "flex": null,
            "flex_flow": null,
            "grid_area": null,
            "grid_auto_columns": null,
            "grid_auto_flow": null,
            "grid_auto_rows": null,
            "grid_column": null,
            "grid_gap": null,
            "grid_row": null,
            "grid_template_areas": null,
            "grid_template_columns": null,
            "grid_template_rows": null,
            "height": null,
            "justify_content": null,
            "justify_items": null,
            "left": null,
            "margin": null,
            "max_height": null,
            "max_width": null,
            "min_height": null,
            "min_width": null,
            "object_fit": null,
            "object_position": null,
            "order": null,
            "overflow": null,
            "overflow_x": null,
            "overflow_y": null,
            "padding": null,
            "right": null,
            "top": null,
            "visibility": null,
            "width": null
          }
        },
        "1fca808b2e8f4154aa95657b07293e6f": {
          "model_module": "@jupyter-widgets/controls",
          "model_name": "DescriptionStyleModel",
          "model_module_version": "1.5.0",
          "state": {
            "_model_module": "@jupyter-widgets/controls",
            "_model_module_version": "1.5.0",
            "_model_name": "DescriptionStyleModel",
            "_view_count": null,
            "_view_module": "@jupyter-widgets/base",
            "_view_module_version": "1.2.0",
            "_view_name": "StyleView",
            "description_width": ""
          }
        },
        "cea053f1c0eb4a8fbe18ad2833a8b687": {
          "model_module": "@jupyter-widgets/base",
          "model_name": "LayoutModel",
          "model_module_version": "1.2.0",
          "state": {
            "_model_module": "@jupyter-widgets/base",
            "_model_module_version": "1.2.0",
            "_model_name": "LayoutModel",
            "_view_count": null,
            "_view_module": "@jupyter-widgets/base",
            "_view_module_version": "1.2.0",
            "_view_name": "LayoutView",
            "align_content": null,
            "align_items": null,
            "align_self": null,
            "border": null,
            "bottom": null,
            "display": null,
            "flex": null,
            "flex_flow": null,
            "grid_area": null,
            "grid_auto_columns": null,
            "grid_auto_flow": null,
            "grid_auto_rows": null,
            "grid_column": null,
            "grid_gap": null,
            "grid_row": null,
            "grid_template_areas": null,
            "grid_template_columns": null,
            "grid_template_rows": null,
            "height": null,
            "justify_content": null,
            "justify_items": null,
            "left": null,
            "margin": null,
            "max_height": null,
            "max_width": null,
            "min_height": null,
            "min_width": null,
            "object_fit": null,
            "object_position": null,
            "order": null,
            "overflow": null,
            "overflow_x": null,
            "overflow_y": null,
            "padding": null,
            "right": null,
            "top": null,
            "visibility": null,
            "width": null
          }
        },
        "150fa8b7660c450db1b800f428101eb9": {
          "model_module": "@jupyter-widgets/controls",
          "model_name": "ProgressStyleModel",
          "model_module_version": "1.5.0",
          "state": {
            "_model_module": "@jupyter-widgets/controls",
            "_model_module_version": "1.5.0",
            "_model_name": "ProgressStyleModel",
            "_view_count": null,
            "_view_module": "@jupyter-widgets/base",
            "_view_module_version": "1.2.0",
            "_view_name": "StyleView",
            "bar_color": null,
            "description_width": ""
          }
        },
        "124684a4b40c44118e7354a014a855cb": {
          "model_module": "@jupyter-widgets/base",
          "model_name": "LayoutModel",
          "model_module_version": "1.2.0",
          "state": {
            "_model_module": "@jupyter-widgets/base",
            "_model_module_version": "1.2.0",
            "_model_name": "LayoutModel",
            "_view_count": null,
            "_view_module": "@jupyter-widgets/base",
            "_view_module_version": "1.2.0",
            "_view_name": "LayoutView",
            "align_content": null,
            "align_items": null,
            "align_self": null,
            "border": null,
            "bottom": null,
            "display": null,
            "flex": null,
            "flex_flow": null,
            "grid_area": null,
            "grid_auto_columns": null,
            "grid_auto_flow": null,
            "grid_auto_rows": null,
            "grid_column": null,
            "grid_gap": null,
            "grid_row": null,
            "grid_template_areas": null,
            "grid_template_columns": null,
            "grid_template_rows": null,
            "height": null,
            "justify_content": null,
            "justify_items": null,
            "left": null,
            "margin": null,
            "max_height": null,
            "max_width": null,
            "min_height": null,
            "min_width": null,
            "object_fit": null,
            "object_position": null,
            "order": null,
            "overflow": null,
            "overflow_x": null,
            "overflow_y": null,
            "padding": null,
            "right": null,
            "top": null,
            "visibility": null,
            "width": null
          }
        },
        "dfd4079e588549c29dc998ef07ab7d92": {
          "model_module": "@jupyter-widgets/controls",
          "model_name": "DescriptionStyleModel",
          "model_module_version": "1.5.0",
          "state": {
            "_model_module": "@jupyter-widgets/controls",
            "_model_module_version": "1.5.0",
            "_model_name": "DescriptionStyleModel",
            "_view_count": null,
            "_view_module": "@jupyter-widgets/base",
            "_view_module_version": "1.2.0",
            "_view_name": "StyleView",
            "description_width": ""
          }
        },
        "ce94abbb296f4e32866763f0e9d8969b": {
          "model_module": "@jupyter-widgets/controls",
          "model_name": "HTMLModel",
          "model_module_version": "1.5.0",
          "state": {
            "_dom_classes": [],
            "_model_module": "@jupyter-widgets/controls",
            "_model_module_version": "1.5.0",
            "_model_name": "HTMLModel",
            "_view_count": null,
            "_view_module": "@jupyter-widgets/controls",
            "_view_module_version": "1.5.0",
            "_view_name": "HTMLView",
            "description": "",
            "description_tooltip": null,
            "layout": "IPY_MODEL_56c68f573bc84ef29a35c83b10ff4830",
            "placeholder": "​",
            "style": "IPY_MODEL_dbfb9335a6e446f3b57b2f0fdb659b97",
            "value": "<img src=\"data:image/gif;base64,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\" />"
          }
        },
        "56c68f573bc84ef29a35c83b10ff4830": {
          "model_module": "@jupyter-widgets/base",
          "model_name": "LayoutModel",
          "model_module_version": "1.2.0",
          "state": {
            "_model_module": "@jupyter-widgets/base",
            "_model_module_version": "1.2.0",
            "_model_name": "LayoutModel",
            "_view_count": null,
            "_view_module": "@jupyter-widgets/base",
            "_view_module_version": "1.2.0",
            "_view_name": "LayoutView",
            "align_content": null,
            "align_items": null,
            "align_self": null,
            "border": null,
            "bottom": null,
            "display": null,
            "flex": null,
            "flex_flow": null,
            "grid_area": null,
            "grid_auto_columns": null,
            "grid_auto_flow": null,
            "grid_auto_rows": null,
            "grid_column": null,
            "grid_gap": null,
            "grid_row": null,
            "grid_template_areas": null,
            "grid_template_columns": null,
            "grid_template_rows": null,
            "height": null,
            "justify_content": null,
            "justify_items": null,
            "left": null,
            "margin": null,
            "max_height": null,
            "max_width": null,
            "min_height": null,
            "min_width": null,
            "object_fit": null,
            "object_position": null,
            "order": null,
            "overflow": null,
            "overflow_x": null,
            "overflow_y": null,
            "padding": null,
            "right": null,
            "top": null,
            "visibility": null,
            "width": null
          }
        },
        "dbfb9335a6e446f3b57b2f0fdb659b97": {
          "model_module": "@jupyter-widgets/controls",
          "model_name": "DescriptionStyleModel",
          "model_module_version": "1.5.0",
          "state": {
            "_model_module": "@jupyter-widgets/controls",
            "_model_module_version": "1.5.0",
            "_model_name": "DescriptionStyleModel",
            "_view_count": null,
            "_view_module": "@jupyter-widgets/base",
            "_view_module_version": "1.2.0",
            "_view_name": "StyleView",
            "description_width": ""
          }
        },
        "74eb7ecae9e94b61877e83fa8c9935bb": {
          "model_module": "@jupyter-widgets/controls",
          "model_name": "HTMLModel",
          "model_module_version": "1.5.0",
          "state": {
            "_dom_classes": [],
            "_model_module": "@jupyter-widgets/controls",
            "_model_module_version": "1.5.0",
            "_model_name": "HTMLModel",
            "_view_count": null,
            "_view_module": "@jupyter-widgets/controls",
            "_view_module_version": "1.5.0",
            "_view_name": "HTMLView",
            "description": "",
            "description_tooltip": null,
            "layout": "IPY_MODEL_2651a683de2242c79b704dc73e6e8d9e",
            "placeholder": "​",
            "style": "IPY_MODEL_38d89cc11ec34402a146eadeb03b671c",
            "value": "<img src=\"data:image/gif;base64,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\" />"
          }
        },
        "2651a683de2242c79b704dc73e6e8d9e": {
          "model_module": "@jupyter-widgets/base",
          "model_name": "LayoutModel",
          "model_module_version": "1.2.0",
          "state": {
            "_model_module": "@jupyter-widgets/base",
            "_model_module_version": "1.2.0",
            "_model_name": "LayoutModel",
            "_view_count": null,
            "_view_module": "@jupyter-widgets/base",
            "_view_module_version": "1.2.0",
            "_view_name": "LayoutView",
            "align_content": null,
            "align_items": null,
            "align_self": null,
            "border": null,
            "bottom": null,
            "display": null,
            "flex": null,
            "flex_flow": null,
            "grid_area": null,
            "grid_auto_columns": null,
            "grid_auto_flow": null,
            "grid_auto_rows": null,
            "grid_column": null,
            "grid_gap": null,
            "grid_row": null,
            "grid_template_areas": null,
            "grid_template_columns": null,
            "grid_template_rows": null,
            "height": null,
            "justify_content": null,
            "justify_items": null,
            "left": null,
            "margin": null,
            "max_height": null,
            "max_width": null,
            "min_height": null,
            "min_width": null,
            "object_fit": null,
            "object_position": null,
            "order": null,
            "overflow": null,
            "overflow_x": null,
            "overflow_y": null,
            "padding": null,
            "right": null,
            "top": null,
            "visibility": null,
            "width": null
          }
        },
        "38d89cc11ec34402a146eadeb03b671c": {
          "model_module": "@jupyter-widgets/controls",
          "model_name": "DescriptionStyleModel",
          "model_module_version": "1.5.0",
          "state": {
            "_model_module": "@jupyter-widgets/controls",
            "_model_module_version": "1.5.0",
            "_model_name": "DescriptionStyleModel",
            "_view_count": null,
            "_view_module": "@jupyter-widgets/base",
            "_view_module_version": "1.2.0",
            "_view_name": "StyleView",
            "description_width": ""
          }
        },
        "13fd42dc3e1e49e48a207cb0c2fa1dfd": {
          "model_module": "@jupyter-widgets/controls",
          "model_name": "HTMLModel",
          "model_module_version": "1.5.0",
          "state": {
            "_dom_classes": [],
            "_model_module": "@jupyter-widgets/controls",
            "_model_module_version": "1.5.0",
            "_model_name": "HTMLModel",
            "_view_count": null,
            "_view_module": "@jupyter-widgets/controls",
            "_view_module_version": "1.5.0",
            "_view_name": "HTMLView",
            "description": "",
            "description_tooltip": null,
            "layout": "IPY_MODEL_5bed1e66591d4c19816c44bb1d0fce8b",
            "placeholder": "​",
            "style": "IPY_MODEL_ebeb673038284f7bbe1b18c1fce202f4",
            "value": "<img src=\"data:image/gif;base64,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\" />"
          }
        },
        "5bed1e66591d4c19816c44bb1d0fce8b": {
          "model_module": "@jupyter-widgets/base",
          "model_name": "LayoutModel",
          "model_module_version": "1.2.0",
          "state": {
            "_model_module": "@jupyter-widgets/base",
            "_model_module_version": "1.2.0",
            "_model_name": "LayoutModel",
            "_view_count": null,
            "_view_module": "@jupyter-widgets/base",
            "_view_module_version": "1.2.0",
            "_view_name": "LayoutView",
            "align_content": null,
            "align_items": null,
            "align_self": null,
            "border": null,
            "bottom": null,
            "display": null,
            "flex": null,
            "flex_flow": null,
            "grid_area": null,
            "grid_auto_columns": null,
            "grid_auto_flow": null,
            "grid_auto_rows": null,
            "grid_column": null,
            "grid_gap": null,
            "grid_row": null,
            "grid_template_areas": null,
            "grid_template_columns": null,
            "grid_template_rows": null,
            "height": null,
            "justify_content": null,
            "justify_items": null,
            "left": null,
            "margin": null,
            "max_height": null,
            "max_width": null,
            "min_height": null,
            "min_width": null,
            "object_fit": null,
            "object_position": null,
            "order": null,
            "overflow": null,
            "overflow_x": null,
            "overflow_y": null,
            "padding": null,
            "right": null,
            "top": null,
            "visibility": null,
            "width": null
          }
        },
        "ebeb673038284f7bbe1b18c1fce202f4": {
          "model_module": "@jupyter-widgets/controls",
          "model_name": "DescriptionStyleModel",
          "model_module_version": "1.5.0",
          "state": {
            "_model_module": "@jupyter-widgets/controls",
            "_model_module_version": "1.5.0",
            "_model_name": "DescriptionStyleModel",
            "_view_count": null,
            "_view_module": "@jupyter-widgets/base",
            "_view_module_version": "1.2.0",
            "_view_name": "StyleView",
            "description_width": ""
          }
        },
        "697ddbc62ddc40be9d1f50065beb30f6": {
          "model_module": "@jupyter-widgets/controls",
          "model_name": "HTMLModel",
          "model_module_version": "1.5.0",
          "state": {
            "_dom_classes": [],
            "_model_module": "@jupyter-widgets/controls",
            "_model_module_version": "1.5.0",
            "_model_name": "HTMLModel",
            "_view_count": null,
            "_view_module": "@jupyter-widgets/controls",
            "_view_module_version": "1.5.0",
            "_view_name": "HTMLView",
            "description": "",
            "description_tooltip": null,
            "layout": "IPY_MODEL_61d604b07c434c4db52ce39c9a0d2fbf",
            "placeholder": "​",
            "style": "IPY_MODEL_c30bbeba1d8b414da26389be20e1286d",
            "value": "<img src=\"data:image/gif;base64,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\" />"
          }
        },
        "61d604b07c434c4db52ce39c9a0d2fbf": {
          "model_module": "@jupyter-widgets/base",
          "model_name": "LayoutModel",
          "model_module_version": "1.2.0",
          "state": {
            "_model_module": "@jupyter-widgets/base",
            "_model_module_version": "1.2.0",
            "_model_name": "LayoutModel",
            "_view_count": null,
            "_view_module": "@jupyter-widgets/base",
            "_view_module_version": "1.2.0",
            "_view_name": "LayoutView",
            "align_content": null,
            "align_items": null,
            "align_self": null,
            "border": null,
            "bottom": null,
            "display": null,
            "flex": null,
            "flex_flow": null,
            "grid_area": null,
            "grid_auto_columns": null,
            "grid_auto_flow": null,
            "grid_auto_rows": null,
            "grid_column": null,
            "grid_gap": null,
            "grid_row": null,
            "grid_template_areas": null,
            "grid_template_columns": null,
            "grid_template_rows": null,
            "height": null,
            "justify_content": null,
            "justify_items": null,
            "left": null,
            "margin": null,
            "max_height": null,
            "max_width": null,
            "min_height": null,
            "min_width": null,
            "object_fit": null,
            "object_position": null,
            "order": null,
            "overflow": null,
            "overflow_x": null,
            "overflow_y": null,
            "padding": null,
            "right": null,
            "top": null,
            "visibility": null,
            "width": null
          }
        },
        "c30bbeba1d8b414da26389be20e1286d": {
          "model_module": "@jupyter-widgets/controls",
          "model_name": "DescriptionStyleModel",
          "model_module_version": "1.5.0",
          "state": {
            "_model_module": "@jupyter-widgets/controls",
            "_model_module_version": "1.5.0",
            "_model_name": "DescriptionStyleModel",
            "_view_count": null,
            "_view_module": "@jupyter-widgets/base",
            "_view_module_version": "1.2.0",
            "_view_name": "StyleView",
            "description_width": ""
          }
        }
      }
    }
  },
  "cells": [
    {
      "cell_type": "markdown",
      "metadata": {
        "id": "view-in-github",
        "colab_type": "text"
      },
      "source": [
        "<a href=\"https://colab.research.google.com/github/mklemos/Shape-e/blob/main/Untitled1.ipynb\" target=\"_parent\"><img src=\"https://colab.research.google.com/assets/colab-badge.svg\" alt=\"Open In Colab\"/></a>"
      ]
    },
    {
      "cell_type": "code",
      "execution_count": 1,
      "metadata": {
        "colab": {
          "base_uri": "https://localhost:8080/"
        },
        "id": "xyRKFLxX5_9C",
        "outputId": "3cc05247-0e8d-4c57-8ca2-c70339e052d3"
      },
      "outputs": [
        {
          "output_type": "stream",
          "name": "stdout",
          "text": [
            "Cloning into 'shap-e'...\n",
            "remote: Enumerating objects: 330, done.\u001b[K\n",
            "remote: Counting objects: 100% (254/254), done.\u001b[K\n",
            "remote: Compressing objects: 100% (233/233), done.\u001b[K\n",
            "remote: Total 330 (delta 37), reused 218 (delta 20), pack-reused 76\u001b[K\n",
            "Receiving objects: 100% (330/330), 11.72 MiB | 21.54 MiB/s, done.\n",
            "Resolving deltas: 100% (40/40), done.\n"
          ]
        }
      ],
      "source": [
        "!git clone https://github.com/openai/shap-e.git"
      ]
    },
    {
      "cell_type": "code",
      "source": [
        "%cd shap-e"
      ],
      "metadata": {
        "colab": {
          "base_uri": "https://localhost:8080/"
        },
        "id": "g8moA_e56s9u",
        "outputId": "43496e8e-e0c3-4699-9e19-b735e6d06f45"
      },
      "execution_count": 2,
      "outputs": [
        {
          "output_type": "stream",
          "name": "stdout",
          "text": [
            "/content/shap-e\n"
          ]
        }
      ]
    },
    {
      "cell_type": "code",
      "source": [
        "!pip install -e ."
      ],
      "metadata": {
        "colab": {
          "base_uri": "https://localhost:8080/"
        },
        "id": "tIY48muL6yo6",
        "outputId": "fbec9d48-f5c2-49c4-92c7-88f057e8e80f"
      },
      "execution_count": 3,
      "outputs": [
        {
          "output_type": "stream",
          "name": "stdout",
          "text": [
            "Obtaining file:///content/shap-e\n",
            "  Preparing metadata (setup.py) ... \u001b[?25l\u001b[?25hdone\n",
            "Collecting clip@ git+https://github.com/openai/CLIP.git (from shap-e==0.0.0)\n",
            "  Cloning https://github.com/openai/CLIP.git to /tmp/pip-install-zpk9gduk/clip_4f06e53a2eb64498bbc18d81e975c663\n",
            "  Running command git clone --filter=blob:none --quiet https://github.com/openai/CLIP.git /tmp/pip-install-zpk9gduk/clip_4f06e53a2eb64498bbc18d81e975c663\n",
            "  Resolved https://github.com/openai/CLIP.git to commit a1d071733d7111c9c014f024669f959182114e33\n",
            "  Preparing metadata (setup.py) ... \u001b[?25l\u001b[?25hdone\n",
            "Requirement already satisfied: filelock in /usr/local/lib/python3.10/dist-packages (from shap-e==0.0.0) (3.12.4)\n",
            "Requirement already satisfied: Pillow in /usr/local/lib/python3.10/dist-packages (from shap-e==0.0.0) (9.4.0)\n",
            "Requirement already satisfied: torch in /usr/local/lib/python3.10/dist-packages (from shap-e==0.0.0) (2.0.1+cu118)\n",
            "Collecting fire (from shap-e==0.0.0)\n",
            "  Downloading fire-0.5.0.tar.gz (88 kB)\n",
            "\u001b[2K     \u001b[90m━━━━━━━━━━━━━━━━━━━━━━━━━━━━━━━━━━━━━━━━\u001b[0m \u001b[32m88.3/88.3 kB\u001b[0m \u001b[31m2.8 MB/s\u001b[0m eta \u001b[36m0:00:00\u001b[0m\n",
            "\u001b[?25h  Preparing metadata (setup.py) ... \u001b[?25l\u001b[?25hdone\n",
            "Requirement already satisfied: humanize in /usr/local/lib/python3.10/dist-packages (from shap-e==0.0.0) (4.7.0)\n",
            "Requirement already satisfied: requests in /usr/local/lib/python3.10/dist-packages (from shap-e==0.0.0) (2.31.0)\n",
            "Requirement already satisfied: tqdm in /usr/local/lib/python3.10/dist-packages (from shap-e==0.0.0) (4.66.1)\n",
            "Requirement already satisfied: matplotlib in /usr/local/lib/python3.10/dist-packages (from shap-e==0.0.0) (3.7.1)\n",
            "Requirement already satisfied: scikit-image in /usr/local/lib/python3.10/dist-packages (from shap-e==0.0.0) (0.19.3)\n",
            "Requirement already satisfied: scipy in /usr/local/lib/python3.10/dist-packages (from shap-e==0.0.0) (1.11.3)\n",
            "Requirement already satisfied: numpy in /usr/local/lib/python3.10/dist-packages (from shap-e==0.0.0) (1.23.5)\n",
            "Collecting blobfile (from shap-e==0.0.0)\n",
            "  Downloading blobfile-2.1.0-py3-none-any.whl (73 kB)\n",
            "\u001b[2K     \u001b[90m━━━━━━━━━━━━━━━━━━━━━━━━━━━━━━━━━━━━━━━━\u001b[0m \u001b[32m73.6/73.6 kB\u001b[0m \u001b[31m7.7 MB/s\u001b[0m eta \u001b[36m0:00:00\u001b[0m\n",
            "\u001b[?25hCollecting pycryptodomex~=3.8 (from blobfile->shap-e==0.0.0)\n",
            "  Downloading pycryptodomex-3.19.0-cp35-abi3-manylinux_2_17_x86_64.manylinux2014_x86_64.whl (2.1 MB)\n",
            "\u001b[2K     \u001b[90m━━━━━━━━━━━━━━━━━━━━━━━━━━━━━━━━━━━━━━━━\u001b[0m \u001b[32m2.1/2.1 MB\u001b[0m \u001b[31m14.7 MB/s\u001b[0m eta \u001b[36m0:00:00\u001b[0m\n",
            "\u001b[?25hRequirement already satisfied: urllib3<3,>=1.25.3 in /usr/local/lib/python3.10/dist-packages (from blobfile->shap-e==0.0.0) (2.0.6)\n",
            "Requirement already satisfied: lxml~=4.9 in /usr/local/lib/python3.10/dist-packages (from blobfile->shap-e==0.0.0) (4.9.3)\n",
            "Collecting ftfy (from clip@ git+https://github.com/openai/CLIP.git->shap-e==0.0.0)\n",
            "  Downloading ftfy-6.1.1-py3-none-any.whl (53 kB)\n",
            "\u001b[2K     \u001b[90m━━━━━━━━━━━━━━━━━━━━━━━━━━━━━━━━━━━━━━━━\u001b[0m \u001b[32m53.1/53.1 kB\u001b[0m \u001b[31m7.4 MB/s\u001b[0m eta \u001b[36m0:00:00\u001b[0m\n",
            "\u001b[?25hRequirement already satisfied: regex in /usr/local/lib/python3.10/dist-packages (from clip@ git+https://github.com/openai/CLIP.git->shap-e==0.0.0) (2023.6.3)\n",
            "Requirement already satisfied: torchvision in /usr/local/lib/python3.10/dist-packages (from clip@ git+https://github.com/openai/CLIP.git->shap-e==0.0.0) (0.15.2+cu118)\n",
            "Requirement already satisfied: six in /usr/local/lib/python3.10/dist-packages (from fire->shap-e==0.0.0) (1.16.0)\n",
            "Requirement already satisfied: termcolor in /usr/local/lib/python3.10/dist-packages (from fire->shap-e==0.0.0) (2.3.0)\n",
            "Requirement already satisfied: contourpy>=1.0.1 in /usr/local/lib/python3.10/dist-packages (from matplotlib->shap-e==0.0.0) (1.1.1)\n",
            "Requirement already satisfied: cycler>=0.10 in /usr/local/lib/python3.10/dist-packages (from matplotlib->shap-e==0.0.0) (0.12.1)\n",
            "Requirement already satisfied: fonttools>=4.22.0 in /usr/local/lib/python3.10/dist-packages (from matplotlib->shap-e==0.0.0) (4.43.1)\n",
            "Requirement already satisfied: kiwisolver>=1.0.1 in /usr/local/lib/python3.10/dist-packages (from matplotlib->shap-e==0.0.0) (1.4.5)\n",
            "Requirement already satisfied: packaging>=20.0 in /usr/local/lib/python3.10/dist-packages (from matplotlib->shap-e==0.0.0) (23.2)\n",
            "Requirement already satisfied: pyparsing>=2.3.1 in /usr/local/lib/python3.10/dist-packages (from matplotlib->shap-e==0.0.0) (3.1.1)\n",
            "Requirement already satisfied: python-dateutil>=2.7 in /usr/local/lib/python3.10/dist-packages (from matplotlib->shap-e==0.0.0) (2.8.2)\n",
            "Requirement already satisfied: charset-normalizer<4,>=2 in /usr/local/lib/python3.10/dist-packages (from requests->shap-e==0.0.0) (3.3.0)\n",
            "Requirement already satisfied: idna<4,>=2.5 in /usr/local/lib/python3.10/dist-packages (from requests->shap-e==0.0.0) (3.4)\n",
            "Requirement already satisfied: certifi>=2017.4.17 in /usr/local/lib/python3.10/dist-packages (from requests->shap-e==0.0.0) (2023.7.22)\n",
            "Requirement already satisfied: networkx>=2.2 in /usr/local/lib/python3.10/dist-packages (from scikit-image->shap-e==0.0.0) (3.1)\n",
            "Requirement already satisfied: imageio>=2.4.1 in /usr/local/lib/python3.10/dist-packages (from scikit-image->shap-e==0.0.0) (2.31.5)\n",
            "Requirement already satisfied: tifffile>=2019.7.26 in /usr/local/lib/python3.10/dist-packages (from scikit-image->shap-e==0.0.0) (2023.9.26)\n",
            "Requirement already satisfied: PyWavelets>=1.1.1 in /usr/local/lib/python3.10/dist-packages (from scikit-image->shap-e==0.0.0) (1.4.1)\n",
            "Requirement already satisfied: typing-extensions in /usr/local/lib/python3.10/dist-packages (from torch->shap-e==0.0.0) (4.5.0)\n",
            "Requirement already satisfied: sympy in /usr/local/lib/python3.10/dist-packages (from torch->shap-e==0.0.0) (1.12)\n",
            "Requirement already satisfied: jinja2 in /usr/local/lib/python3.10/dist-packages (from torch->shap-e==0.0.0) (3.1.2)\n",
            "Requirement already satisfied: triton==2.0.0 in /usr/local/lib/python3.10/dist-packages (from torch->shap-e==0.0.0) (2.0.0)\n",
            "Requirement already satisfied: cmake in /usr/local/lib/python3.10/dist-packages (from triton==2.0.0->torch->shap-e==0.0.0) (3.27.6)\n",
            "Requirement already satisfied: lit in /usr/local/lib/python3.10/dist-packages (from triton==2.0.0->torch->shap-e==0.0.0) (17.0.2)\n",
            "Requirement already satisfied: wcwidth>=0.2.5 in /usr/local/lib/python3.10/dist-packages (from ftfy->clip@ git+https://github.com/openai/CLIP.git->shap-e==0.0.0) (0.2.8)\n",
            "Requirement already satisfied: MarkupSafe>=2.0 in /usr/local/lib/python3.10/dist-packages (from jinja2->torch->shap-e==0.0.0) (2.1.3)\n",
            "Requirement already satisfied: mpmath>=0.19 in /usr/local/lib/python3.10/dist-packages (from sympy->torch->shap-e==0.0.0) (1.3.0)\n",
            "Building wheels for collected packages: clip, fire\n",
            "  Building wheel for clip (setup.py) ... \u001b[?25l\u001b[?25hdone\n",
            "  Created wheel for clip: filename=clip-1.0-py3-none-any.whl size=1369497 sha256=aad2fe555efcb17a2903f9abfdb517d4cde386826e9249a5b5db1ff940ad2876\n",
            "  Stored in directory: /tmp/pip-ephem-wheel-cache-zayurc1p/wheels/da/2b/4c/d6691fa9597aac8bb85d2ac13b112deb897d5b50f5ad9a37e4\n",
            "  Building wheel for fire (setup.py) ... \u001b[?25l\u001b[?25hdone\n",
            "  Created wheel for fire: filename=fire-0.5.0-py2.py3-none-any.whl size=116934 sha256=d776c177e0fc8f5dbcbb93b1d454a79ecdf512f21799ede4cfdee3008aa1b051\n",
            "  Stored in directory: /root/.cache/pip/wheels/90/d4/f7/9404e5db0116bd4d43e5666eaa3e70ab53723e1e3ea40c9a95\n",
            "Successfully built clip fire\n",
            "Installing collected packages: pycryptodomex, ftfy, fire, blobfile, clip, shap-e\n",
            "  Running setup.py develop for shap-e\n",
            "Successfully installed blobfile-2.1.0 clip-1.0 fire-0.5.0 ftfy-6.1.1 pycryptodomex-3.19.0 shap-e-0.0.0\n"
          ]
        }
      ]
    },
    {
      "cell_type": "code",
      "source": [
        "import torch\n",
        "\n",
        "\n",
        "\n",
        "from shap_e.diffusion.sample import sample_latents\n",
        "\n",
        "from shap_e.diffusion.gaussian_diffusion import diffusion_from_config\n",
        "\n",
        "from shap_e.models.download import load_model, load_config\n",
        "\n",
        "from shap_e.util.notebooks import create_pan_cameras, decode_latent_images, gif_widget"
      ],
      "metadata": {
        "id": "YqXH021F6570"
      },
      "execution_count": 4,
      "outputs": []
    },
    {
      "cell_type": "code",
      "source": [
        "device = torch.device('cuda' if torch.cuda.is_available() else 'cpu')"
      ],
      "metadata": {
        "id": "COQTtNeZ68aP"
      },
      "execution_count": 5,
      "outputs": []
    },
    {
      "cell_type": "code",
      "source": [
        "xm = load_model('transmitter', device=device)\n",
        "\n",
        "model = load_model('text300M', device=device)\n",
        "\n",
        "diffusion = diffusion_from_config(load_config('diffusion'))"
      ],
      "metadata": {
        "colab": {
          "base_uri": "https://localhost:8080/",
          "height": 98,
          "referenced_widgets": [
            "fde2f58dd1894e8abe4d7f6fc73b2674",
            "70aea736f2714092a3880f8e68d0c5f7",
            "d5366140dd1541709146e9c72f1c7085",
            "7bfb8b723d4f47ecbd605872ed60a158",
            "cb18e49010404b06b9b5dc54f38060a4",
            "b4efb4bc2f3e48ca9d0348b91657b7a6",
            "ed91648ee6db4196863f912af3bad7a2",
            "837b8562816a44fa876d4b56272ee2b2",
            "234e7789b6f04fe6bbff25790b49933a",
            "f8b1f6660b03466c8ec6efa06959295b",
            "2d715e93dc874801978e74f655b31ab0",
            "e42d39dac25748dfb5aa52bbcea3b1a7",
            "09d26b8244e5402dbc14bb7d5a81f0ff",
            "61d090b2cc774b1c94df60f54f723e6c",
            "2c70b41dfdcf4a2891717a57d1180f7e",
            "d88764bffbcd4f16be516229494f7d25",
            "d9e44ca0a5914a0cac5e278314136450",
            "ebf44f56a100492ab22c0c5ac5f04318",
            "a27ca9ec17654ec68dcb7d8466833cda",
            "53af894e9bce4ad396a4d4048e870141",
            "aedd3614cd474876af0403953e37ea49",
            "bb19caebf11742a59e4e818ec6dcf0c3"
          ]
        },
        "id": "9cKzkksL7Cfy",
        "outputId": "8b1f5bb1-0767-427a-a12b-8963ab8a7206"
      },
      "execution_count": 6,
      "outputs": [
        {
          "output_type": "display_data",
          "data": {
            "text/plain": [
              "  0%|          | 0.00/1.78G [00:00<?, ?iB/s]"
            ],
            "application/vnd.jupyter.widget-view+json": {
              "version_major": 2,
              "version_minor": 0,
              "model_id": "fde2f58dd1894e8abe4d7f6fc73b2674"
            }
          },
          "metadata": {}
        },
        {
          "output_type": "stream",
          "name": "stderr",
          "text": [
            "100%|███████████████████████████████████████| 890M/890M [00:14<00:00, 62.6MiB/s]\n"
          ]
        },
        {
          "output_type": "display_data",
          "data": {
            "text/plain": [
              "  0%|          | 0.00/1.26G [00:00<?, ?iB/s]"
            ],
            "application/vnd.jupyter.widget-view+json": {
              "version_major": 2,
              "version_minor": 0,
              "model_id": "e42d39dac25748dfb5aa52bbcea3b1a7"
            }
          },
          "metadata": {}
        }
      ]
    },
    {
      "cell_type": "code",
      "source": [
        "batch_size = 4\n",
        "\n",
        "guidance_scale = 15.0\n",
        "\n",
        "prompt = \"shark\"\n",
        "\n",
        "\n",
        "\n",
        "latents = sample_latents(\n",
        "\n",
        "    batch_size=batch_size,\n",
        "\n",
        "    model=model,\n",
        "\n",
        "    diffusion=diffusion,\n",
        "\n",
        "    guidance_scale=guidance_scale,\n",
        "\n",
        "    model_kwargs=dict(texts=[prompt] * batch_size),\n",
        "\n",
        "    progress=True,\n",
        "\n",
        "    clip_denoised=True,\n",
        "\n",
        "    use_fp16=True,\n",
        "\n",
        "    use_karras=True,\n",
        "\n",
        "    karras_steps=64,\n",
        "\n",
        "    sigma_min=1e-3,\n",
        "\n",
        "    sigma_max=160, s_churn=0,\n",
        "\n",
        ")"
      ],
      "metadata": {
        "colab": {
          "base_uri": "https://localhost:8080/",
          "height": 49,
          "referenced_widgets": [
            "d68c67e5538843da8d73f9749e6dd3b8",
            "907546ad824647d2a088e3c4a21fde2f",
            "6a47aa445c7847959857bf7d83eb9299",
            "fec1eb9bf1904152a8d0e7e3f992aeb7",
            "0cbf53db720d4645b6427899164d1069",
            "07ea76dda74e462ea1bf8c8c3c669c27",
            "1fca808b2e8f4154aa95657b07293e6f",
            "cea053f1c0eb4a8fbe18ad2833a8b687",
            "150fa8b7660c450db1b800f428101eb9",
            "124684a4b40c44118e7354a014a855cb",
            "dfd4079e588549c29dc998ef07ab7d92"
          ]
        },
        "id": "Pd22aR4m7Xg7",
        "outputId": "b7c0a9c1-4758-4e9c-ae45-31058e6259f9"
      },
      "execution_count": 7,
      "outputs": [
        {
          "output_type": "display_data",
          "data": {
            "text/plain": [
              "  0%|          | 0/64 [00:00<?, ?it/s]"
            ],
            "application/vnd.jupyter.widget-view+json": {
              "version_major": 2,
              "version_minor": 0,
              "model_id": "d68c67e5538843da8d73f9749e6dd3b8"
            }
          },
          "metadata": {}
        }
      ]
    },
    {
      "cell_type": "code",
      "source": [
        "render_mode = 'nerf' # you can change this to 'stf'\n",
        "\n",
        "size = 128 # this is the size of the renders; higher values take longer to render.\n",
        "\n",
        "\n",
        "\n",
        "cameras = create_pan_cameras(size, device)\n",
        "\n",
        "for i, latent in enumerate(latents):\n",
        "\n",
        "    images = decode_latent_images(xm, latent, cameras, rendering_mode=render_mode)\n",
        "\n",
        "    display(gif_widget(images))"
      ],
      "metadata": {
        "colab": {
          "base_uri": "https://localhost:8080/",
          "height": 579,
          "referenced_widgets": [
            "ce94abbb296f4e32866763f0e9d8969b",
            "56c68f573bc84ef29a35c83b10ff4830",
            "dbfb9335a6e446f3b57b2f0fdb659b97",
            "74eb7ecae9e94b61877e83fa8c9935bb",
            "2651a683de2242c79b704dc73e6e8d9e",
            "38d89cc11ec34402a146eadeb03b671c",
            "13fd42dc3e1e49e48a207cb0c2fa1dfd",
            "5bed1e66591d4c19816c44bb1d0fce8b",
            "ebeb673038284f7bbe1b18c1fce202f4",
            "697ddbc62ddc40be9d1f50065beb30f6",
            "61d604b07c434c4db52ce39c9a0d2fbf",
            "c30bbeba1d8b414da26389be20e1286d"
          ]
        },
        "id": "v3Kd24K_7b19",
        "outputId": "3de006a0-df63-4346-909d-f857a87b8b46"
      },
      "execution_count": 8,
      "outputs": [
        {
          "output_type": "display_data",
          "data": {
            "text/plain": [
              "HTML(value='<img src=\"data:image/gif;base64,R0lGODlhgACAAIcAAIyyx4qxxomwxYeswoarwIOswYSqv4Spv4Kpv4GpvoKpuoSovY…"
            ],
            "application/vnd.jupyter.widget-view+json": {
              "version_major": 2,
              "version_minor": 0,
              "model_id": "ce94abbb296f4e32866763f0e9d8969b"
            }
          },
          "metadata": {}
        },
        {
          "output_type": "display_data",
          "data": {
            "text/plain": [
              "HTML(value='<img src=\"data:image/gif;base64,R0lGODlhgACAAIcAAPv7/Pn6+/j5+vf5+vb4+fb3+PT3+PL19/H09fDz8+3y8+3x8u…"
            ],
            "application/vnd.jupyter.widget-view+json": {
              "version_major": 2,
              "version_minor": 0,
              "model_id": "74eb7ecae9e94b61877e83fa8c9935bb"
            }
          },
          "metadata": {}
        },
        {
          "output_type": "display_data",
          "data": {
            "text/plain": [
              "HTML(value='<img src=\"data:image/gif;base64,R0lGODlhgACAAIcAAMPEx8LEx8LDx7/CxbzAwra9vay5uaWwsZiwsJCrrpemp4Kjp4…"
            ],
            "application/vnd.jupyter.widget-view+json": {
              "version_major": 2,
              "version_minor": 0,
              "model_id": "13fd42dc3e1e49e48a207cb0c2fa1dfd"
            }
          },
          "metadata": {}
        },
        {
          "output_type": "display_data",
          "data": {
            "text/plain": [
              "HTML(value='<img src=\"data:image/gif;base64,R0lGODlhgACAAIcAAIu1vImxtIWwtYOrr3ylpn2dpoCan3WbonqZnm+XnnSTn26Qln…"
            ],
            "application/vnd.jupyter.widget-view+json": {
              "version_major": 2,
              "version_minor": 0,
              "model_id": "697ddbc62ddc40be9d1f50065beb30f6"
            }
          },
          "metadata": {}
        }
      ]
    },
    {
      "cell_type": "code",
      "source": [
        "# Example of saving the latents as meshes.\n",
        "\n",
        "from shap_e.util.notebooks import decode_latent_mesh\n",
        "\n",
        "\n",
        "\n",
        "for i, latent in enumerate(latents):\n",
        "\n",
        "    t = decode_latent_mesh(xm, latent).tri_mesh()\n",
        "\n",
        "    with open(f'shark_mesh_{i}.ply', 'wb') as f:\n",
        "\n",
        "        t.write_ply(f)\n",
        "\n",
        "    with open(f'shark_mesh_{i}.obj', 'w') as f:\n",
        "\n",
        "        t.write_obj(f)"
      ],
      "metadata": {
        "colab": {
          "base_uri": "https://localhost:8080/"
        },
        "id": "sSMjjCVD7fIA",
        "outputId": "0d6e2c96-3c95-4d7d-bd98-038f3f565db2"
      },
      "execution_count": 9,
      "outputs": [
        {
          "output_type": "stream",
          "name": "stderr",
          "text": [
            "/content/shap-e/shap_e/models/stf/renderer.py:286: UserWarning: exception rendering with PyTorch3D: No module named 'pytorch3d'\n",
            "  warnings.warn(f\"exception rendering with PyTorch3D: {exc}\")\n",
            "/content/shap-e/shap_e/models/stf/renderer.py:287: UserWarning: falling back on native PyTorch renderer, which does not support full gradients\n",
            "  warnings.warn(\n"
          ]
        }
      ]
    },
    {
      "cell_type": "markdown",
      "source": [
        "# New Section"
      ],
      "metadata": {
        "id": "cByBaPbG9lW3"
      }
    }
  ]
}